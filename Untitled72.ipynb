{
  "nbformat": 4,
  "nbformat_minor": 0,
  "metadata": {
    "colab": {
      "provenance": []
    },
    "kernelspec": {
      "name": "python3",
      "display_name": "Python 3"
    },
    "language_info": {
      "name": "python"
    }
  },
  "cells": [
    {
      "cell_type": "code",
      "source": [
        "from sentence_transformers import SentenceTransformer, util\n",
        "import pandas as pd\n",
        "\n",
        "# Load model\n",
        "model = SentenceTransformer('all-MiniLM-L6-v2')\n",
        "\n",
        "# Load CSVs directly (paths must match Colab paths)\n",
        "df_emp = pd.read_csv('/content/employee_profiles.csv')\n",
        "df_tasks = pd.read_csv('/content/task_catalog .csv')\n",
        "\n",
        "# Standardize column names (remove spaces and lowercase)\n",
        "df_emp.columns = df_emp.columns.str.strip().str.lower().str.replace(\" \", \"_\")\n",
        "df_tasks.columns = df_tasks.columns.str.strip().str.lower().str.replace(\" \", \"_\")\n",
        "\n",
        "# Print for debug\n",
        "print(\"🧾 Employee Columns:\", df_emp.columns.tolist())\n",
        "print(\"🧾 Task Columns:\", df_tasks.columns.tolist())\n",
        "\n",
        "# ✅ Use 'skills' column instead of 'resume_text'\n",
        "emp_embeddings = model.encode(df_emp['skills'], convert_to_tensor=True)\n",
        "task_embeddings = model.encode(df_tasks['task_description'], convert_to_tensor=True)\n",
        "\n",
        "# Calculate cosine similarity\n",
        "cos_sim = util.cos_sim(emp_embeddings, task_embeddings)\n",
        "\n",
        "# Match top tasks for each employee\n",
        "matches = []\n",
        "for emp_idx in range(len(df_emp)):\n",
        "    best_task_idx = cos_sim[emp_idx].argmax().item()\n",
        "    best_score = cos_sim[emp_idx][best_task_idx].item()\n",
        "    best_task = df_tasks.iloc[best_task_idx]\n",
        "    matches.append({\n",
        "        'employee_id': df_emp.iloc[emp_idx]['employee_id'],\n",
        "        'name': df_emp.iloc[emp_idx]['name'],\n",
        "        'role': df_emp.iloc[emp_idx]['role'],\n",
        "        'matched_task': best_task['task_description'],\n",
        "        'automation_possible': best_task['automation_possible'],\n",
        "        'suggested_tool': best_task['suggested_tool'],\n",
        "        'match_score': round(best_score, 4)\n",
        "    })\n",
        "\n",
        "# Final result\n",
        "final_df = pd.DataFrame(matches)\n",
        "print(\"✅ Best Task Matches per Employee\")\n",
        "print(final_df.sort_values(by='match_score', ascending=False).head(10))\n"
      ],
      "metadata": {
        "colab": {
          "base_uri": "https://localhost:8080/"
        },
        "id": "qko0TMGc86rR",
        "outputId": "7431d2b2-332a-4f62-9af7-0fbddf262298"
      },
      "execution_count": null,
      "outputs": [
        {
          "output_type": "stream",
          "name": "stdout",
          "text": [
            "🧾 Employee Columns: ['employee_id', 'name', 'role', 'skills']\n",
            "🧾 Task Columns: ['task_id', 'task_description', 'automation_possible', 'suggested_tool']\n",
            "✅ Best Task Matches per Employee\n",
            "   employee_id     name             role                  matched_task  \\\n",
            "3          104    David    HR Specialist             Handle onboarding   \n",
            "4          105      Eva  Finance Analyst  Prepare financial statements   \n",
            "2          103  Charlie      ML Engineer          Coordinate logistics   \n",
            "0          101    Alice   Data Scientist          Coordinate logistics   \n",
            "1          102      Bob  DevOps Engineer             Schedule meetings   \n",
            "\n",
            "  automation_possible            suggested_tool  match_score  \n",
            "3                  No                         -       0.5580  \n",
            "4                 Yes      Excel Macro + Python       0.5383  \n",
            "2                 Yes       Trello + Slack Bots       0.1696  \n",
            "0                 Yes       Trello + Slack Bots       0.1594  \n",
            "1                 Yes  Google Calendar + Zapier       0.1074  \n"
          ]
        }
      ]
    }
  ]
}